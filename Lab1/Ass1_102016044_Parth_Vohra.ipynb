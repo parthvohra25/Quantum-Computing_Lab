{
  "nbformat": 4,
  "nbformat_minor": 0,
  "metadata": {
    "colab": {
      "provenance": []
    },
    "kernelspec": {
      "name": "python3",
      "display_name": "Python 3"
    },
    "language_info": {
      "name": "python"
    }
  },
  "cells": [
    {
      "cell_type": "markdown",
      "source": [
        "# Section 1\n"
      ],
      "metadata": {
        "id": "NfjhiWag3bGd"
      }
    },
    {
      "cell_type": "code",
      "execution_count": null,
      "metadata": {
        "id": "IEJG-pcMA1O-"
      },
      "outputs": [],
      "source": [
        "import numpy as np\n",
        "import math"
      ]
    },
    {
      "cell_type": "code",
      "source": [
        "a=1/math.sqrt(2)\n",
        "b=1/math.sqrt(2)\n",
        "print(a)\n",
        "print(b)"
      ],
      "metadata": {
        "colab": {
          "base_uri": "https://localhost:8080/"
        },
        "id": "WyxsybaXS8cj",
        "outputId": "42d94df4-904e-4385-abbf-06a42e123381"
      },
      "execution_count": null,
      "outputs": [
        {
          "output_type": "stream",
          "name": "stdout",
          "text": [
            "0.7071067811865475\n",
            "0.7071067811865475\n"
          ]
        }
      ]
    },
    {
      "cell_type": "code",
      "source": [
        "arr=np.array([a,b])\n",
        "arr"
      ],
      "metadata": {
        "colab": {
          "base_uri": "https://localhost:8080/"
        },
        "id": "a7QQTEMMTEbr",
        "outputId": "8a87771d-6d7f-4f0a-e42f-1b643b2d9612"
      },
      "execution_count": null,
      "outputs": [
        {
          "output_type": "execute_result",
          "data": {
            "text/plain": [
              "array([0.70710678, 0.70710678])"
            ]
          },
          "metadata": {},
          "execution_count": 12
        }
      ]
    },
    {
      "cell_type": "code",
      "source": [
        "if np.linalg.norm(arr)==1:\n",
        "  print('normalised')\n",
        "else:\n",
        "  print('not normal')"
      ],
      "metadata": {
        "colab": {
          "base_uri": "https://localhost:8080/"
        },
        "id": "7caEqmQYTTP1",
        "outputId": "b542d08c-36cf-4cfa-b87a-6ad6825d49b2"
      },
      "execution_count": null,
      "outputs": [
        {
          "output_type": "stream",
          "name": "stdout",
          "text": [
            "not normal\n"
          ]
        },
        {
          "output_type": "execute_result",
          "data": {
            "text/plain": [
              "2"
            ]
          },
          "metadata": {},
          "execution_count": 13
        }
      ]
    },
    {
      "cell_type": "code",
      "source": [
        "len(arr)"
      ],
      "metadata": {
        "colab": {
          "base_uri": "https://localhost:8080/"
        },
        "id": "2JUiDwSdTb48",
        "outputId": "8016d60d-a292-488e-eeb0-68c85aff13ef"
      },
      "execution_count": null,
      "outputs": [
        {
          "output_type": "execute_result",
          "data": {
            "text/plain": [
              "2"
            ]
          },
          "metadata": {},
          "execution_count": 14
        }
      ]
    },
    {
      "cell_type": "markdown",
      "source": [
        "# Section 2\n"
      ],
      "metadata": {
        "id": "66h3EswC3mM8"
      }
    },
    {
      "cell_type": "code",
      "source": [
        "a=[0]*5\n",
        "for i in range(5):\n",
        "  x=input(\"Enter elements:\")\n",
        "  a[i]=x\n",
        "print(a)"
      ],
      "metadata": {
        "colab": {
          "base_uri": "https://localhost:8080/"
        },
        "id": "-DOhQ-c_Emj_",
        "outputId": "b9bbc095-9a82-48ee-e2f2-0a1b43a3c294"
      },
      "execution_count": null,
      "outputs": [
        {
          "output_type": "stream",
          "name": "stdout",
          "text": [
            "Enter elements:1\n",
            "Enter elements:2\n",
            "Enter elements:3\n",
            "Enter elements:4\n",
            "Enter elements:5\n",
            "['1', '2', '3', '4', '5']\n"
          ]
        }
      ]
    },
    {
      "cell_type": "code",
      "source": [
        "def check_normal(arr):\n",
        "  if np.linalg.norm(arr)==1:\n",
        "    print('normalised')\n",
        "  else:\n",
        "    print('not normal')\n",
        "\n",
        "check_normal(a)"
      ],
      "metadata": {
        "colab": {
          "base_uri": "https://localhost:8080/"
        },
        "id": "v_q2KIO9Tl3T",
        "outputId": "e46ef86e-d320-4a65-a8e7-f6bc82e70f26"
      },
      "execution_count": null,
      "outputs": [
        {
          "output_type": "stream",
          "name": "stdout",
          "text": [
            "not normal\n"
          ]
        }
      ]
    },
    {
      "cell_type": "code",
      "source": [
        "x = [5, 10, 2]\n",
        "y = [2, 4, 3]\n",
        "dotproduct = np.dot(x,y)\n",
        "crossproduct = np.cross(x,y)\n",
        "print('Dot product is:', dotproduct)\n",
        "print('Cross product is:', crossproduct)"
      ],
      "metadata": {
        "colab": {
          "base_uri": "https://localhost:8080/"
        },
        "id": "XSPFpoAnTvwI",
        "outputId": "61091538-c949-4d85-b4a0-5214960610f1"
      },
      "execution_count": null,
      "outputs": [
        {
          "output_type": "stream",
          "name": "stdout",
          "text": [
            "Dot product is: 56\n",
            "Cross product is: [ 22 -11   0]\n"
          ]
        }
      ]
    },
    {
      "cell_type": "code",
      "source": [
        "def unit_fnc(arr):\n",
        "  ans=np.sqrt((arr**2).sum())\n",
        "  unit=arr/ans\n",
        "  return unit\n",
        "print(unit_fnc(np.array(x)))"
      ],
      "metadata": {
        "colab": {
          "base_uri": "https://localhost:8080/"
        },
        "id": "3LvsPI0pT1fP",
        "outputId": "8b2a3d2a-ae7e-48df-a6c5-08906901950b"
      },
      "execution_count": null,
      "outputs": [
        {
          "output_type": "stream",
          "name": "stdout",
          "text": [
            "[0.44022545 0.88045091 0.17609018]\n"
          ]
        }
      ]
    },
    {
      "cell_type": "markdown",
      "source": [
        "# Section 3\n"
      ],
      "metadata": {
        "id": "78xZ7xNZ3qoh"
      }
    },
    {
      "cell_type": "code",
      "source": [
        "r=int(input(\"Enter no of rows:\"))\n",
        "c=int(input(\"Enter no of cols:\"))\n",
        "matrix=[]\n",
        "for i in range(r):\n",
        "  a=[]\n",
        "  for j in range(c):\n",
        "    a.append(int(input()))\n",
        "  matrix.append(a)\n",
        "\n",
        "for i in range(r):\n",
        "  for j in range(c):\n",
        "    print(matrix[i][j],end=\" \")\n",
        "  print()"
      ],
      "metadata": {
        "id": "rCjNkfowJmH3",
        "colab": {
          "base_uri": "https://localhost:8080/"
        },
        "outputId": "3e2bcaaa-421b-419b-a411-28b03b2f4a8e"
      },
      "execution_count": null,
      "outputs": [
        {
          "output_type": "stream",
          "name": "stdout",
          "text": [
            "Enter no of rows:3\n",
            "Enter no of cols:3\n",
            "1\n",
            "3\n",
            "4\n",
            "5\n",
            "2\n",
            "7\n",
            "8\n",
            "9\n",
            "9\n",
            "1 3 4 \n",
            "5 2 7 \n",
            "8 9 9 \n"
          ]
        }
      ]
    },
    {
      "cell_type": "code",
      "source": [
        "np.transpose(matrix)"
      ],
      "metadata": {
        "colab": {
          "base_uri": "https://localhost:8080/"
        },
        "id": "zalAvCTFIzie",
        "outputId": "e7eb9d69-edb9-4813-de0c-5fc03802404a"
      },
      "execution_count": null,
      "outputs": [
        {
          "output_type": "execute_result",
          "data": {
            "text/plain": [
              "array([[1, 5, 8],\n",
              "       [3, 2, 9],\n",
              "       [4, 7, 9]])"
            ]
          },
          "metadata": {},
          "execution_count": 20
        }
      ]
    },
    {
      "cell_type": "code",
      "source": [
        "np.linalg.det(matrix)"
      ],
      "metadata": {
        "colab": {
          "base_uri": "https://localhost:8080/"
        },
        "id": "bEruxUYeI65a",
        "outputId": "373a8122-1aa8-46f0-c97a-fd45a61cd7d3"
      },
      "execution_count": null,
      "outputs": [
        {
          "output_type": "execute_result",
          "data": {
            "text/plain": [
              "103.99999999999999"
            ]
          },
          "metadata": {},
          "execution_count": 21
        }
      ]
    },
    {
      "cell_type": "code",
      "source": [
        "np.linalg.matrix_rank(matrix)"
      ],
      "metadata": {
        "colab": {
          "base_uri": "https://localhost:8080/"
        },
        "id": "bmdAwm-mULw1",
        "outputId": "b587c409-4375-41a2-8e62-d52952bb9106"
      },
      "execution_count": null,
      "outputs": [
        {
          "output_type": "execute_result",
          "data": {
            "text/plain": [
              "3"
            ]
          },
          "metadata": {},
          "execution_count": 22
        }
      ]
    },
    {
      "cell_type": "code",
      "source": [
        "np.trace(matrix)"
      ],
      "metadata": {
        "colab": {
          "base_uri": "https://localhost:8080/"
        },
        "id": "s21v4b8-US9K",
        "outputId": "8d673b28-0555-4553-9fc9-d397cb4008c1"
      },
      "execution_count": null,
      "outputs": [
        {
          "output_type": "execute_result",
          "data": {
            "text/plain": [
              "12"
            ]
          },
          "metadata": {},
          "execution_count": 23
        }
      ]
    },
    {
      "cell_type": "code",
      "source": [
        "np.linalg.eig(matrix)"
      ],
      "metadata": {
        "colab": {
          "base_uri": "https://localhost:8080/"
        },
        "id": "JaTW9LAPUXzp",
        "outputId": "4b4049b8-4e99-492f-8d3e-d0a67a3574a3"
      },
      "execution_count": null,
      "outputs": [
        {
          "output_type": "execute_result",
          "data": {
            "text/plain": [
              "(array([17.09431805, -1.91144981, -3.18286823]),\n",
              " array([[ 0.29484841,  0.82756539,  0.02347886],\n",
              "        [ 0.48065824, -0.05875721, -0.81141016],\n",
              "        [ 0.82585233, -0.55828587,  0.58400538]]))"
            ]
          },
          "metadata": {},
          "execution_count": 24
        }
      ]
    },
    {
      "cell_type": "code",
      "source": [
        "np.linalg.inv(matrix)"
      ],
      "metadata": {
        "colab": {
          "base_uri": "https://localhost:8080/"
        },
        "id": "WA5SQtvBUfcx",
        "outputId": "6619ead0-e590-40f6-8a37-d56da0215ce9"
      },
      "execution_count": null,
      "outputs": [
        {
          "output_type": "execute_result",
          "data": {
            "text/plain": [
              "array([[-0.43269231,  0.08653846,  0.125     ],\n",
              "       [ 0.10576923, -0.22115385,  0.125     ],\n",
              "       [ 0.27884615,  0.14423077, -0.125     ]])"
            ]
          },
          "metadata": {},
          "execution_count": 25
        }
      ]
    },
    {
      "cell_type": "markdown",
      "source": [
        "# Section 4\n"
      ],
      "metadata": {
        "id": "Fri-B3FK3w8T"
      }
    },
    {
      "cell_type": "code",
      "source": [
        "x=int(input(\"Enter real number:\"))\n",
        "y=int(input(\"Enter imaginary number:\"))\n",
        "z1=complex(x,y)\n",
        "print(z1)"
      ],
      "metadata": {
        "colab": {
          "base_uri": "https://localhost:8080/"
        },
        "id": "zLh-u_EaUpCY",
        "outputId": "f4b0c7a2-3a68-4df4-bb97-8d64b9d4a586"
      },
      "execution_count": null,
      "outputs": [
        {
          "output_type": "stream",
          "name": "stdout",
          "text": [
            "Enter real number:2\n",
            "Enter imaginary number:5\n",
            "(2+5j)\n"
          ]
        }
      ]
    },
    {
      "cell_type": "code",
      "source": [
        "np.conj(z1)"
      ],
      "metadata": {
        "colab": {
          "base_uri": "https://localhost:8080/"
        },
        "id": "BM9AevgDVISl",
        "outputId": "1adccd1c-48bf-40c1-b48a-2f1dcac73aab"
      },
      "execution_count": null,
      "outputs": [
        {
          "output_type": "execute_result",
          "data": {
            "text/plain": [
              "(2-5j)"
            ]
          },
          "metadata": {},
          "execution_count": 27
        }
      ]
    },
    {
      "cell_type": "code",
      "source": [
        "z2=complex(3,4)\n",
        "add=z1+z2\n",
        "sub=z1-z2\n",
        "mul=z1*z2\n",
        "div=z1/z2\n",
        "print(add)\n",
        "print(sub)\n",
        "print(mul)\n",
        "print(div)"
      ],
      "metadata": {
        "colab": {
          "base_uri": "https://localhost:8080/"
        },
        "id": "2WLlCSUdVL-d",
        "outputId": "1f637d60-7d4c-434a-875f-596965c01e6d"
      },
      "execution_count": null,
      "outputs": [
        {
          "output_type": "stream",
          "name": "stdout",
          "text": [
            "(5+9j)\n",
            "(-1+1j)\n",
            "(-14+23j)\n",
            "(1.04+0.28j)\n"
          ]
        }
      ]
    },
    {
      "cell_type": "code",
      "source": [
        "import matplotlib.pyplot as plt\n",
        "z1=complex(1,2)\n",
        "z2=complex(3,6)\n",
        "z3=complex(4,0)\n",
        "data1=np.array([z1,z2,z3])\n",
        "x1=data1.real\n",
        "y1=data1.imag\n",
        "plt.scatter(x1,y1)\n",
        "plt.ylabel('Imaginary')\n",
        "plt.xlabel('Real')\n",
        "plt.show()\n",
        "plt.plot(x1,y1)    #joining the points\n",
        "plt.show()"
      ],
      "metadata": {
        "colab": {
          "base_uri": "https://localhost:8080/",
          "height": 527
        },
        "id": "4L6RFd01VWDx",
        "outputId": "a4ea9d1c-d828-42e6-bdbd-41564c234b0d"
      },
      "execution_count": null,
      "outputs": [
        {
          "output_type": "display_data",
          "data": {
            "text/plain": [
              "<Figure size 432x288 with 1 Axes>"
            ],
            "image/png": "[encoded data removed]"
          },
          "metadata": {
            "needs_background": "light"
          }
        },
        {
          "output_type": "display_data",
          "data": {
            "text/plain": [
              "<Figure size 432x288 with 1 Axes>"
            ],
            "image/png": "[encoded data removed]"
          },
          "metadata": {
            "needs_background": "light"
          }
        }
      ]
    },
    {
      "cell_type": "code",
      "source": [
        "abs(z1)"
      ],
      "metadata": {
        "colab": {
          "base_uri": "https://localhost:8080/"
        },
        "id": "emJMbwbyVrlU",
        "outputId": "117f0768-7aab-43ac-eabc-d42d15779b7c"
      },
      "execution_count": null,
      "outputs": [
        {
          "output_type": "execute_result",
          "data": {
            "text/plain": [
              "2.23606797749979"
            ]
          },
          "metadata": {},
          "execution_count": 30
        }
      ]
    }
  ]
}